{
 "cells": [
  {
   "cell_type": "code",
   "execution_count": 3,
   "metadata": {},
   "outputs": [
    {
     "name": "stdout",
     "output_type": "stream",
     "text": [
      "  date_ordered        product  quantity  price_per_unit                   week\n",
      "0   2024-04-08      Road Bike         3           250.0  2024-04-08/2024-04-14\n",
      "1   2024-05-01    Hybrid Bike        10          2300.0  2024-04-29/2024-05-05\n",
      "2   2024-05-02      Road Bike         1           250.0  2024-04-29/2024-05-05\n",
      "3   2024-05-02    Hybrid Bike         2          2300.0  2024-04-29/2024-05-05\n",
      "4   2024-05-03      Road Bike        24           250.0  2024-04-29/2024-05-05\n",
      "5   2024-05-09      Road Bike         1           250.0  2024-05-06/2024-05-12\n",
      "6   2024-10-09    Hybrid Bike         1           685.0  2024-10-07/2024-10-13\n",
      "7   2024-10-09  Mountain Bike         1           730.0  2024-10-07/2024-10-13\n",
      "Dataset saved successfully!\n"
     ]
    },
    {
     "name": "stderr",
     "output_type": "stream",
     "text": [
      "C:\\Users\\user\\AppData\\Local\\Temp\\ipykernel_22844\\754063189.py:35: UserWarning: pandas only supports SQLAlchemy connectable (engine/connection) or database string URI or sqlite3 DBAPI2 connection. Other DBAPI2 objects are not tested. Please consider using SQLAlchemy.\n",
      "  df = pd.read_sql(query, connection)\n"
     ]
    }
   ],
   "source": [
    "import pandas as pd\n",
    "import pymysql\n",
    "\n",
    "# Connect to the MySQL database\n",
    "connection = pymysql.connect(\n",
    "    host='localhost',\n",
    "    user='root',\n",
    "    password='password',\n",
    "    db='supply_chain'\n",
    ")\n",
    "\n",
    "# SQL query to fetch the dataset\n",
    "query = \"\"\"\n",
    "\n",
    "SELECT \n",
    "    co.date AS date_ordered,\n",
    "    bc.bike_type AS product,\n",
    "    co.quantity,\n",
    "    (co.total_price / co.quantity) AS price_per_unit,\n",
    "    CONCAT(DATE_FORMAT(co.date - INTERVAL WEEKDAY(co.date) DAY, '%Y-%m-%d'), \n",
    "           '/', \n",
    "           DATE_FORMAT(co.date + INTERVAL (6 - WEEKDAY(co.date)) DAY, '%Y-%m-%d')) AS week\n",
    "FROM \n",
    "    customer_order co\n",
    "JOIN \n",
    "    Model m ON co.modelID = m.model_id\n",
    "JOIN \n",
    "    bike_type bc ON m.bike_type_id = bc.bike_type_id\n",
    "ORDER BY \n",
    "    co.date;\n",
    "\n",
    "\"\"\"\n",
    "\n",
    "# Load the query result into a Pandas DataFrame\n",
    "df = pd.read_sql(query, connection)\n",
    "\n",
    "# Close the database connection\n",
    "connection.close()\n",
    "\n",
    "# Display the DataFrame\n",
    "print(df)\n",
    "\n",
    "# Save the dataset as a CSV file\n",
    "df.to_csv('supply_chain_dataset.csv', index=False)\n",
    "\n",
    "print(\"Dataset saved successfully!\")\n"
   ]
  },
  {
   "cell_type": "code",
   "execution_count": null,
   "metadata": {},
   "outputs": [],
   "source": []
  }
 ],
 "metadata": {
  "kernelspec": {
   "display_name": "Python 3",
   "language": "python",
   "name": "python3"
  },
  "language_info": {
   "codemirror_mode": {
    "name": "ipython",
    "version": 3
   },
   "file_extension": ".py",
   "mimetype": "text/x-python",
   "name": "python",
   "nbconvert_exporter": "python",
   "pygments_lexer": "ipython3",
   "version": "3.10.7"
  }
 },
 "nbformat": 4,
 "nbformat_minor": 2
}
