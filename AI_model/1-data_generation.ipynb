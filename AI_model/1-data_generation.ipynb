{
 "cells": [
  {
   "cell_type": "markdown",
   "metadata": {},
   "source": [
    "Creating Dataset based on current bikes_offered and random distributions, while taking into account market trends (holidays, black friday...)"
   ]
  },
  {
   "cell_type": "code",
   "execution_count": 2,
   "metadata": {},
   "outputs": [],
   "source": [
    "import numpy as np\n",
    "import pandas as pd\n",
    "import random\n",
    "from datetime import datetime, timedelta\n",
    "\n",
    "\n",
    "# df  = pd.read_csv('/datasets/bike_types_and_names.csv')\n",
    "\n",
    "bike_data=pd.read_csv('./datasets/bike_types_and_names.csv')\n",
    "# Parameters for dataset creation\n",
    "start_date = datetime(2020, 1, 1)\n",
    "end_date = datetime(2024, 10, 1)\n",
    "date_range = (end_date - start_date).days\n",
    "bikes = bike_data.to_dict('records')\n",
    "\n",
    "# Special events for sales spikes\n",
    "christmas = [datetime(year, 12, 25) for year in range(2018, 2024)]\n",
    "black_friday = [datetime(year, 11, 26) for year in range(2018, 2024)]\n",
    "tour_de_france = [datetime(year, 7, 1) for year in range(2018, 2024)]\n",
    "summer_season = [(datetime(year, 6, 1), datetime(year, 8, 31)) for year in range(2018, 2024)]\n",
    "\n",
    "# Function to generate random sales with seasonal spikes\n",
    "def generate_sales_data(n=1000):\n",
    "    sales_data = []\n",
    "    for _ in range(n):\n",
    "        bike = random.choice(bikes)\n",
    "        random_days = random.randint(0, date_range)\n",
    "        date_ordered = start_date + timedelta(days=random_days)\n",
    "        \n",
    "        # Base sales quantity\n",
    "        base_quantity = int(np.random.normal(3,1))\n",
    "        \n",
    "        # Adjust sales quantity for special events\n",
    "        if any(abs((date_ordered - event).days) <= 7 for event in christmas):\n",
    "            quantity = base_quantity + int(np.random.normal(10,2))  # Christmas spike\n",
    "        elif any(abs((date_ordered - event).days) <= 7 for event in black_friday):\n",
    "            quantity = base_quantity + int(np.random.normal(15,2))   # Black Friday spike\n",
    "        elif any(start <= date_ordered <= end for start, end in summer_season):\n",
    "            quantity = base_quantity + int(np.random.normal(5,2))     # Summer season boost\n",
    "        elif any(abs((date_ordered - event).days) <= 30 for event in tour_de_france):\n",
    "            if bike['bike_type'] == 'Road Bike':\n",
    "                quantity = base_quantity + int(np.random.normal(15,2))   # Tour de France spike for road bikes\n",
    "            else:\n",
    "                quantity = base_quantity + int(np.random.normal(1,1)) \n",
    "        else:\n",
    "            quantity = base_quantity\n",
    "\n",
    "        sales_data.append({\n",
    "            'bike_name': bike['bike_name'],\n",
    "            'bike_type': bike['bike_type'],\n",
    "            'date_ordered': date_ordered.strftime('%Y-%m-%d'),\n",
    "            'quantity': max(1, quantity)  # Ensure at least 1 sale\n",
    "        })\n",
    "    \n",
    "    return pd.DataFrame(sales_data)\n",
    "\n",
    "# Generate the sales dataset\n",
    "sales_dataset = generate_sales_data(20000)  # Generate 5000 sales records\n",
    "\n"
   ]
  },
  {
   "cell_type": "markdown",
   "metadata": {},
   "source": [
    "Save in .csv file"
   ]
  },
  {
   "cell_type": "code",
   "execution_count": 3,
   "metadata": {},
   "outputs": [],
   "source": [
    "sales_dataset.to_csv('./datasets/sales_df.csv',index=False)"
   ]
  }
 ],
 "metadata": {
  "kernelspec": {
   "display_name": "Python 3",
   "language": "python",
   "name": "python3"
  },
  "language_info": {
   "codemirror_mode": {
    "name": "ipython",
    "version": 3
   },
   "file_extension": ".py",
   "mimetype": "text/x-python",
   "name": "python",
   "nbconvert_exporter": "python",
   "pygments_lexer": "ipython3",
   "version": "3.11.4"
  }
 },
 "nbformat": 4,
 "nbformat_minor": 2
}
