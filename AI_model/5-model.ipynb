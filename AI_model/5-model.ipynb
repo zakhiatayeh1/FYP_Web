{
 "cells": [
  {
   "cell_type": "code",
   "execution_count": 7,
   "metadata": {},
   "outputs": [],
   "source": [
    "import pandas as pd\n",
    "import numpy as np\n",
    "from sklearn.model_selection import train_test_split\n",
    "from sklearn.ensemble import RandomForestRegressor\n",
    "from sklearn.metrics import mean_absolute_error\n",
    "from sklearn.preprocessing import LabelEncoder"
   ]
  },
  {
   "cell_type": "code",
   "execution_count": 23,
   "metadata": {},
   "outputs": [
    {
     "data": {
      "text/html": [
       "<div>\n",
       "<style scoped>\n",
       "    .dataframe tbody tr th:only-of-type {\n",
       "        vertical-align: middle;\n",
       "    }\n",
       "\n",
       "    .dataframe tbody tr th {\n",
       "        vertical-align: top;\n",
       "    }\n",
       "\n",
       "    .dataframe thead th {\n",
       "        text-align: right;\n",
       "    }\n",
       "</style>\n",
       "<table border=\"1\" class=\"dataframe\">\n",
       "  <thead>\n",
       "    <tr style=\"text-align: right;\">\n",
       "      <th></th>\n",
       "      <th>bike_name</th>\n",
       "      <th>bike_type</th>\n",
       "      <th>date_ordered</th>\n",
       "      <th>quantity</th>\n",
       "      <th>search_value</th>\n",
       "      <th>bike_type_search_value</th>\n",
       "      <th>year</th>\n",
       "      <th>month</th>\n",
       "      <th>day</th>\n",
       "      <th>day_of_week</th>\n",
       "      <th>quantity_lag1</th>\n",
       "      <th>rolling_avg_7</th>\n",
       "      <th>search_value_lag1</th>\n",
       "      <th>bike_type_search_value_lag1</th>\n",
       "    </tr>\n",
       "  </thead>\n",
       "  <tbody>\n",
       "    <tr>\n",
       "      <th>0</th>\n",
       "      <td>Speedster Pro</td>\n",
       "      <td>Road Bike</td>\n",
       "      <td>2020-01-02</td>\n",
       "      <td>1</td>\n",
       "      <td>40</td>\n",
       "      <td>41</td>\n",
       "      <td>2020</td>\n",
       "      <td>1</td>\n",
       "      <td>2</td>\n",
       "      <td>3</td>\n",
       "      <td>1.0</td>\n",
       "      <td>1.0</td>\n",
       "      <td>40.0</td>\n",
       "      <td>41.0</td>\n",
       "    </tr>\n",
       "    <tr>\n",
       "      <th>1</th>\n",
       "      <td>Speedster Pro</td>\n",
       "      <td>Road Bike</td>\n",
       "      <td>2020-01-04</td>\n",
       "      <td>1</td>\n",
       "      <td>40</td>\n",
       "      <td>40</td>\n",
       "      <td>2020</td>\n",
       "      <td>1</td>\n",
       "      <td>4</td>\n",
       "      <td>5</td>\n",
       "      <td>1.0</td>\n",
       "      <td>1.0</td>\n",
       "      <td>40.0</td>\n",
       "      <td>41.0</td>\n",
       "    </tr>\n",
       "    <tr>\n",
       "      <th>2</th>\n",
       "      <td>Speedster Pro</td>\n",
       "      <td>Road Bike</td>\n",
       "      <td>2020-01-04</td>\n",
       "      <td>1</td>\n",
       "      <td>40</td>\n",
       "      <td>40</td>\n",
       "      <td>2020</td>\n",
       "      <td>1</td>\n",
       "      <td>4</td>\n",
       "      <td>5</td>\n",
       "      <td>1.0</td>\n",
       "      <td>1.0</td>\n",
       "      <td>40.0</td>\n",
       "      <td>40.0</td>\n",
       "    </tr>\n",
       "    <tr>\n",
       "      <th>3</th>\n",
       "      <td>Speedster Pro</td>\n",
       "      <td>Road Bike</td>\n",
       "      <td>2020-01-04</td>\n",
       "      <td>1</td>\n",
       "      <td>40</td>\n",
       "      <td>41</td>\n",
       "      <td>2020</td>\n",
       "      <td>1</td>\n",
       "      <td>4</td>\n",
       "      <td>5</td>\n",
       "      <td>1.0</td>\n",
       "      <td>1.0</td>\n",
       "      <td>40.0</td>\n",
       "      <td>40.0</td>\n",
       "    </tr>\n",
       "    <tr>\n",
       "      <th>4</th>\n",
       "      <td>Speedster Pro</td>\n",
       "      <td>Road Bike</td>\n",
       "      <td>2020-01-04</td>\n",
       "      <td>1</td>\n",
       "      <td>40</td>\n",
       "      <td>41</td>\n",
       "      <td>2020</td>\n",
       "      <td>1</td>\n",
       "      <td>4</td>\n",
       "      <td>5</td>\n",
       "      <td>1.0</td>\n",
       "      <td>1.0</td>\n",
       "      <td>40.0</td>\n",
       "      <td>41.0</td>\n",
       "    </tr>\n",
       "  </tbody>\n",
       "</table>\n",
       "</div>"
      ],
      "text/plain": [
       "        bike_name  bike_type date_ordered  quantity  search_value  \\\n",
       "0   Speedster Pro  Road Bike   2020-01-02         1            40   \n",
       "1   Speedster Pro  Road Bike   2020-01-04         1            40   \n",
       "2   Speedster Pro  Road Bike   2020-01-04         1            40   \n",
       "3   Speedster Pro  Road Bike   2020-01-04         1            40   \n",
       "4   Speedster Pro  Road Bike   2020-01-04         1            40   \n",
       "\n",
       "   bike_type_search_value  year  month  day  day_of_week  quantity_lag1  \\\n",
       "0                      41  2020      1    2            3            1.0   \n",
       "1                      40  2020      1    4            5            1.0   \n",
       "2                      40  2020      1    4            5            1.0   \n",
       "3                      41  2020      1    4            5            1.0   \n",
       "4                      41  2020      1    4            5            1.0   \n",
       "\n",
       "   rolling_avg_7  search_value_lag1  bike_type_search_value_lag1  \n",
       "0            1.0               40.0                         41.0  \n",
       "1            1.0               40.0                         41.0  \n",
       "2            1.0               40.0                         40.0  \n",
       "3            1.0               40.0                         40.0  \n",
       "4            1.0               40.0                         41.0  "
      ]
     },
     "execution_count": 23,
     "metadata": {},
     "output_type": "execute_result"
    }
   ],
   "source": [
    "data = pd.read_csv('./datasets/processed_sales_df.csv')\n",
    "data.head()\n"
   ]
  },
  {
   "cell_type": "code",
   "execution_count": 29,
   "metadata": {},
   "outputs": [
    {
     "name": "stdout",
     "output_type": "stream",
     "text": [
      "Mean Absolute Error: 0.31780215551143703\n"
     ]
    }
   ],
   "source": [
    "# Step 5: Encode Categorical Data (Product)\n",
    "le = LabelEncoder()\n",
    "data['product_encoded'] = le.fit_transform(data['bike_name'])\n",
    "\n",
    "X = data[['product_encoded', 'year', 'month', 'day', 'day_of_week', 'quantity_lag1', 'rolling_avg_7','search_value_lag1','bike_type_search_value_lag1']]\n",
    "y = data['quantity']\n",
    "X_train, X_test, y_train, y_test = train_test_split(X, y, test_size=0.2, shuffle=False)\n",
    "\n",
    "# Step 7: Model Training (Random Forest)\n",
    "model = RandomForestRegressor(n_estimators=100, random_state=42)\n",
    "model.fit(X_train, y_train)\n",
    "\n",
    "# Step 8: Model Evaluation\n",
    "y_pred = model.predict(X_test)\n",
    "mae = mean_absolute_error(y_test, y_pred)\n",
    "print(f'Mean Absolute Error: {mae}')\n"
   ]
  },
  {
   "cell_type": "code",
   "execution_count": 30,
   "metadata": {},
   "outputs": [
    {
     "name": "stdout",
     "output_type": "stream",
     "text": [
      "R^2 Score: 0.9580490940405398\n"
     ]
    }
   ],
   "source": [
    "from sklearn.metrics import r2_score\n",
    "\n",
    "r_squared = r2_score(y_test, y_pred)\n",
    "print(f'R^2 Score: {r_squared}')"
   ]
  },
  {
   "cell_type": "code",
   "execution_count": 47,
   "metadata": {},
   "outputs": [],
   "source": [
    "# Step 9: Future Prediction for all products (next 7 days example)\n",
    "future_dates = pd.date_range(start=data['date_ordered'].max(), periods=7, freq='D')\n",
    "future_data = pd.DataFrame({'date_ordered': future_dates})\n",
    "# Prepare features for each product\n",
    "all_future_preds = {}\n",
    "for product in data['bike_name'].unique():\n",
    "    # Create a copy for each product's prediction\n",
    "    future_data_copy = future_data.copy()\n",
    "    \n",
    "    # Set the time-based features\n",
    "    future_data_copy['year'] = future_data_copy['date_ordered'].dt.year\n",
    "    future_data_copy['month'] = future_data_copy['date_ordered'].dt.month\n",
    "    future_data_copy['day'] = future_data_copy['date_ordered'].dt.day\n",
    "    future_data_copy['day_of_week'] = future_data_copy['date_ordered'].dt.dayofweek\n",
    "\n",
    "    # Set lag and rolling average for the product based on recent data\n",
    "    last_known_quantity = data[data['bike_name'] == product]['quantity'].iloc[-1]\n",
    "    last_rolling_avg = data[data['bike_name'] == product]['rolling_avg_7'].iloc[-1]\n",
    "\n",
    "    last_search_val = data[data['bike_name'] == product]['search_value_lag1'].iloc[-1]\n",
    "    last_bike_type_search_val = data[data['bike_name'] == product]['bike_type_search_value_lag1'].iloc[-1]\n",
    "    \n",
    "    future_data_copy['quantity_lag1'] = last_known_quantity\n",
    "    future_data_copy['rolling_avg_7'] = last_rolling_avg\n",
    "\n",
    "    future_data_copy['search_value_lag1'] = last_search_val\n",
    "    future_data_copy['bike_type_search_value_lag1'] = last_bike_type_search_val\n",
    "    \n",
    "    # Encode the product\n",
    "    future_data_copy['product_encoded'] = le.transform([product])[0]\n",
    "    # print(future_data_copy.head())\n",
    "    # Predict the quantity for the next 7 days for this product\n",
    "    future_preds = model.predict(future_data_copy[['product_encoded', 'year', 'month', 'day', 'day_of_week', 'quantity_lag1', 'rolling_avg_7','search_value_lag1','bike_type_search_value_lag1']])\n",
    "    \n",
    "    # Store the predictions for this product\n",
    "    all_future_preds[product] = future_preds\n",
    "\n",
    "    # print('future')\n",
    "    # print(future_preds)\n",
    "# Print future predictions for each product\n",
    "# for product, preds in all_future_preds.items():\n",
    "#     print(f\"Future Predictions for {product}: {preds}\")\n"
   ]
  },
  {
   "cell_type": "code",
   "execution_count": 49,
   "metadata": {},
   "outputs": [
    {
     "name": "stdout",
     "output_type": "stream",
     "text": [
      "    Speedster Pro  AirMaster 300  BMX Freestyle Pro  Hybrid Explorer  \\\n",
      "0            21.0           14.0               28.0             21.0   \n",
      "\n",
      "   Mountain Climber XT  Roadmaster Pro  TrailBlazer XT  UrbanCommuter 500  \n",
      "0                 28.0            28.0             7.0                7.0  \n"
     ]
    }
   ],
   "source": [
    "all_future_preds_df = pd.DataFrame(all_future_preds)\n",
    "\n",
    "# Sum each column and create a new DataFrame with the result in one row\n",
    "total_sum_row = pd.DataFrame(all_future_preds_df.sum()).T  # Transpose to get a single row\n",
    "print(total_sum_row)\n"
   ]
  },
  {
   "cell_type": "code",
   "execution_count": 50,
   "metadata": {},
   "outputs": [],
   "source": [
    "total_sum_row.to_csv('./datasets/sales_predictions.csv', index=False)\n"
   ]
  }
 ],
 "metadata": {
  "kernelspec": {
   "display_name": "Python 3",
   "language": "python",
   "name": "python3"
  },
  "language_info": {
   "codemirror_mode": {
    "name": "ipython",
    "version": 3
   },
   "file_extension": ".py",
   "mimetype": "text/x-python",
   "name": "python",
   "nbconvert_exporter": "python",
   "pygments_lexer": "ipython3",
   "version": "3.11.4"
  }
 },
 "nbformat": 4,
 "nbformat_minor": 2
}
