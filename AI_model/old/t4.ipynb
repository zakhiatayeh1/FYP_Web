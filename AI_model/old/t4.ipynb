{
 "cells": [
  {
   "cell_type": "code",
   "execution_count": 14,
   "metadata": {},
   "outputs": [],
   "source": [
    "import numpy as np\n",
    "import pandas as pd\n",
    "from sklearn.model_selection import train_test_split\n",
    "from sklearn.ensemble import RandomForestRegressor\n",
    "from sklearn.metrics import mean_absolute_error\n",
    "import matplotlib.pyplot as plt\n",
    "from sklearn.preprocessing import LabelEncoder, OneHotEncoder\n"
   ]
  },
  {
   "cell_type": "code",
   "execution_count": 18,
   "metadata": {},
   "outputs": [
    {
     "name": "stdout",
     "output_type": "stream",
     "text": [
      "                   x            y        date   z\n",
      "0  BMX Freestyle Pro          BMX  2022-11-29  17\n",
      "1  BMX Freestyle Pro          BMX  2021-11-22  19\n",
      "2      AirMaster 300          BMX  2021-09-05   2\n",
      "3     Roadmaster Pro    Road Bike  2023-07-30   8\n",
      "4  UrbanCommuter 500  Hybrid Bike  2023-05-13   1\n"
     ]
    }
   ],
   "source": [
    "data = pd.read_csv('sales_df.csv')\n",
    "data.rename(columns={'bike_name': 'x'}, inplace=True)\n",
    "data.rename(columns={'bike_type': 'y'}, inplace=True)\n",
    "data.rename(columns={'quantity': 'z'}, inplace=True)\n",
    "data.rename(columns={'date_ordered': 'date'}, inplace=True)\n",
    "print(data.head())"
   ]
  },
  {
   "cell_type": "code",
   "execution_count": 25,
   "metadata": {},
   "outputs": [
    {
     "name": "stdout",
     "output_type": "stream",
     "text": [
      "                      x              y       date   z           x_future  \\\n",
      "0     BMX Freestyle Pro            BMX 2022-11-29  17  BMX Freestyle Pro   \n",
      "1     BMX Freestyle Pro            BMX 2021-11-22  19      AirMaster 300   \n",
      "2         AirMaster 300            BMX 2021-09-05   2     Roadmaster Pro   \n",
      "3        Roadmaster Pro      Road Bike 2023-07-30   8  UrbanCommuter 500   \n",
      "4     UrbanCommuter 500    Hybrid Bike 2023-05-13   1      AirMaster 300   \n",
      "...                 ...            ...        ...  ..                ...   \n",
      "4988     Roadmaster Pro      Road Bike 2021-04-04   3     Roadmaster Pro   \n",
      "4989     Roadmaster Pro      Road Bike 2023-10-01   4  BMX Freestyle Pro   \n",
      "4990  BMX Freestyle Pro            BMX 2023-09-19   7     TrailBlazer XT   \n",
      "4991     TrailBlazer XT  Mountain Bike 2021-05-14   3      Speedster Pro   \n",
      "4992      Speedster Pro      Road Bike 2023-03-02   3    Hybrid Explorer   \n",
      "\n",
      "           y_future  \n",
      "0               BMX  \n",
      "1               BMX  \n",
      "2         Road Bike  \n",
      "3       Hybrid Bike  \n",
      "4               BMX  \n",
      "...             ...  \n",
      "4988      Road Bike  \n",
      "4989            BMX  \n",
      "4990  Mountain Bike  \n",
      "4991      Road Bike  \n",
      "4992    Hybrid Bike  \n",
      "\n",
      "[4993 rows x 6 columns]\n",
      "x\n"
     ]
    },
    {
     "ename": "ValueError",
     "evalue": "The feature names should match those that were passed during fit.\nFeature names unseen at fit time:\n- x_future\nFeature names seen at fit time, yet now missing:\n- x\n",
     "output_type": "error",
     "traceback": [
      "\u001b[1;31m---------------------------------------------------------------------------\u001b[0m",
      "\u001b[1;31mValueError\u001b[0m                                Traceback (most recent call last)",
      "Cell \u001b[1;32mIn[25], line 22\u001b[0m\n\u001b[0;32m     20\u001b[0m \u001b[38;5;28mprint\u001b[39m(\u001b[38;5;124m'\u001b[39m\u001b[38;5;124mx\u001b[39m\u001b[38;5;124m'\u001b[39m)\n\u001b[0;32m     21\u001b[0m \u001b[38;5;66;03m# Encode the target 'x_future' column\u001b[39;00m\n\u001b[1;32m---> 22\u001b[0m x_future_encoded \u001b[38;5;241m=\u001b[39m \u001b[43mone_hot_encoder\u001b[49m\u001b[38;5;241;43m.\u001b[39;49m\u001b[43mtransform\u001b[49m\u001b[43m(\u001b[49m\u001b[43mdata\u001b[49m\u001b[43m[\u001b[49m\u001b[43m[\u001b[49m\u001b[38;5;124;43m'\u001b[39;49m\u001b[38;5;124;43mx_future\u001b[39;49m\u001b[38;5;124;43m'\u001b[39;49m\u001b[43m]\u001b[49m\u001b[43m]\u001b[49m\u001b[43m)\u001b[49m\n\u001b[0;32m     23\u001b[0m \u001b[38;5;28mprint\u001b[39m(x_future_encoded)\n\u001b[0;32m     24\u001b[0m \u001b[38;5;66;03m# Prepare the final dataset\u001b[39;00m\n",
      "File \u001b[1;32mc:\\Users\\souei\\AppData\\Local\\Programs\\Python\\Python311\\Lib\\site-packages\\sklearn\\utils\\_set_output.py:295\u001b[0m, in \u001b[0;36m_wrap_method_output.<locals>.wrapped\u001b[1;34m(self, X, *args, **kwargs)\u001b[0m\n\u001b[0;32m    293\u001b[0m \u001b[38;5;129m@wraps\u001b[39m(f)\n\u001b[0;32m    294\u001b[0m \u001b[38;5;28;01mdef\u001b[39;00m \u001b[38;5;21mwrapped\u001b[39m(\u001b[38;5;28mself\u001b[39m, X, \u001b[38;5;241m*\u001b[39margs, \u001b[38;5;241m*\u001b[39m\u001b[38;5;241m*\u001b[39mkwargs):\n\u001b[1;32m--> 295\u001b[0m     data_to_wrap \u001b[38;5;241m=\u001b[39m \u001b[43mf\u001b[49m\u001b[43m(\u001b[49m\u001b[38;5;28;43mself\u001b[39;49m\u001b[43m,\u001b[49m\u001b[43m \u001b[49m\u001b[43mX\u001b[49m\u001b[43m,\u001b[49m\u001b[43m \u001b[49m\u001b[38;5;241;43m*\u001b[39;49m\u001b[43margs\u001b[49m\u001b[43m,\u001b[49m\u001b[43m \u001b[49m\u001b[38;5;241;43m*\u001b[39;49m\u001b[38;5;241;43m*\u001b[39;49m\u001b[43mkwargs\u001b[49m\u001b[43m)\u001b[49m\n\u001b[0;32m    296\u001b[0m     \u001b[38;5;28;01mif\u001b[39;00m \u001b[38;5;28misinstance\u001b[39m(data_to_wrap, \u001b[38;5;28mtuple\u001b[39m):\n\u001b[0;32m    297\u001b[0m         \u001b[38;5;66;03m# only wrap the first output for cross decomposition\u001b[39;00m\n\u001b[0;32m    298\u001b[0m         return_tuple \u001b[38;5;241m=\u001b[39m (\n\u001b[0;32m    299\u001b[0m             _wrap_data_with_container(method, data_to_wrap[\u001b[38;5;241m0\u001b[39m], X, \u001b[38;5;28mself\u001b[39m),\n\u001b[0;32m    300\u001b[0m             \u001b[38;5;241m*\u001b[39mdata_to_wrap[\u001b[38;5;241m1\u001b[39m:],\n\u001b[0;32m    301\u001b[0m         )\n",
      "File \u001b[1;32mc:\\Users\\souei\\AppData\\Local\\Programs\\Python\\Python311\\Lib\\site-packages\\sklearn\\preprocessing\\_encoders.py:1023\u001b[0m, in \u001b[0;36mOneHotEncoder.transform\u001b[1;34m(self, X)\u001b[0m\n\u001b[0;32m   1018\u001b[0m \u001b[38;5;66;03m# validation of X happens in _check_X called by _transform\u001b[39;00m\n\u001b[0;32m   1019\u001b[0m warn_on_unknown \u001b[38;5;241m=\u001b[39m \u001b[38;5;28mself\u001b[39m\u001b[38;5;241m.\u001b[39mdrop \u001b[38;5;129;01mis\u001b[39;00m \u001b[38;5;129;01mnot\u001b[39;00m \u001b[38;5;28;01mNone\u001b[39;00m \u001b[38;5;129;01mand\u001b[39;00m \u001b[38;5;28mself\u001b[39m\u001b[38;5;241m.\u001b[39mhandle_unknown \u001b[38;5;129;01min\u001b[39;00m {\n\u001b[0;32m   1020\u001b[0m     \u001b[38;5;124m\"\u001b[39m\u001b[38;5;124mignore\u001b[39m\u001b[38;5;124m\"\u001b[39m,\n\u001b[0;32m   1021\u001b[0m     \u001b[38;5;124m\"\u001b[39m\u001b[38;5;124minfrequent_if_exist\u001b[39m\u001b[38;5;124m\"\u001b[39m,\n\u001b[0;32m   1022\u001b[0m }\n\u001b[1;32m-> 1023\u001b[0m X_int, X_mask \u001b[38;5;241m=\u001b[39m \u001b[38;5;28;43mself\u001b[39;49m\u001b[38;5;241;43m.\u001b[39;49m\u001b[43m_transform\u001b[49m\u001b[43m(\u001b[49m\n\u001b[0;32m   1024\u001b[0m \u001b[43m    \u001b[49m\u001b[43mX\u001b[49m\u001b[43m,\u001b[49m\n\u001b[0;32m   1025\u001b[0m \u001b[43m    \u001b[49m\u001b[43mhandle_unknown\u001b[49m\u001b[38;5;241;43m=\u001b[39;49m\u001b[38;5;28;43mself\u001b[39;49m\u001b[38;5;241;43m.\u001b[39;49m\u001b[43mhandle_unknown\u001b[49m\u001b[43m,\u001b[49m\n\u001b[0;32m   1026\u001b[0m \u001b[43m    \u001b[49m\u001b[43mforce_all_finite\u001b[49m\u001b[38;5;241;43m=\u001b[39;49m\u001b[38;5;124;43m\"\u001b[39;49m\u001b[38;5;124;43mallow-nan\u001b[39;49m\u001b[38;5;124;43m\"\u001b[39;49m\u001b[43m,\u001b[49m\n\u001b[0;32m   1027\u001b[0m \u001b[43m    \u001b[49m\u001b[43mwarn_on_unknown\u001b[49m\u001b[38;5;241;43m=\u001b[39;49m\u001b[43mwarn_on_unknown\u001b[49m\u001b[43m,\u001b[49m\n\u001b[0;32m   1028\u001b[0m \u001b[43m\u001b[49m\u001b[43m)\u001b[49m\n\u001b[0;32m   1030\u001b[0m n_samples, n_features \u001b[38;5;241m=\u001b[39m X_int\u001b[38;5;241m.\u001b[39mshape\n\u001b[0;32m   1032\u001b[0m \u001b[38;5;28;01mif\u001b[39;00m \u001b[38;5;28mself\u001b[39m\u001b[38;5;241m.\u001b[39m_drop_idx_after_grouping \u001b[38;5;129;01mis\u001b[39;00m \u001b[38;5;129;01mnot\u001b[39;00m \u001b[38;5;28;01mNone\u001b[39;00m:\n",
      "File \u001b[1;32mc:\\Users\\souei\\AppData\\Local\\Programs\\Python\\Python311\\Lib\\site-packages\\sklearn\\preprocessing\\_encoders.py:196\u001b[0m, in \u001b[0;36m_BaseEncoder._transform\u001b[1;34m(self, X, handle_unknown, force_all_finite, warn_on_unknown, ignore_category_indices)\u001b[0m\n\u001b[0;32m    185\u001b[0m \u001b[38;5;28;01mdef\u001b[39;00m \u001b[38;5;21m_transform\u001b[39m(\n\u001b[0;32m    186\u001b[0m     \u001b[38;5;28mself\u001b[39m,\n\u001b[0;32m    187\u001b[0m     X,\n\u001b[1;32m   (...)\u001b[0m\n\u001b[0;32m    191\u001b[0m     ignore_category_indices\u001b[38;5;241m=\u001b[39m\u001b[38;5;28;01mNone\u001b[39;00m,\n\u001b[0;32m    192\u001b[0m ):\n\u001b[0;32m    193\u001b[0m     X_list, n_samples, n_features \u001b[38;5;241m=\u001b[39m \u001b[38;5;28mself\u001b[39m\u001b[38;5;241m.\u001b[39m_check_X(\n\u001b[0;32m    194\u001b[0m         X, force_all_finite\u001b[38;5;241m=\u001b[39mforce_all_finite\n\u001b[0;32m    195\u001b[0m     )\n\u001b[1;32m--> 196\u001b[0m     \u001b[38;5;28;43mself\u001b[39;49m\u001b[38;5;241;43m.\u001b[39;49m\u001b[43m_check_feature_names\u001b[49m\u001b[43m(\u001b[49m\u001b[43mX\u001b[49m\u001b[43m,\u001b[49m\u001b[43m \u001b[49m\u001b[43mreset\u001b[49m\u001b[38;5;241;43m=\u001b[39;49m\u001b[38;5;28;43;01mFalse\u001b[39;49;00m\u001b[43m)\u001b[49m\n\u001b[0;32m    197\u001b[0m     \u001b[38;5;28mself\u001b[39m\u001b[38;5;241m.\u001b[39m_check_n_features(X, reset\u001b[38;5;241m=\u001b[39m\u001b[38;5;28;01mFalse\u001b[39;00m)\n\u001b[0;32m    199\u001b[0m     X_int \u001b[38;5;241m=\u001b[39m np\u001b[38;5;241m.\u001b[39mzeros((n_samples, n_features), dtype\u001b[38;5;241m=\u001b[39m\u001b[38;5;28mint\u001b[39m)\n",
      "File \u001b[1;32mc:\\Users\\souei\\AppData\\Local\\Programs\\Python\\Python311\\Lib\\site-packages\\sklearn\\base.py:535\u001b[0m, in \u001b[0;36mBaseEstimator._check_feature_names\u001b[1;34m(self, X, reset)\u001b[0m\n\u001b[0;32m    530\u001b[0m \u001b[38;5;28;01mif\u001b[39;00m \u001b[38;5;129;01mnot\u001b[39;00m missing_names \u001b[38;5;129;01mand\u001b[39;00m \u001b[38;5;129;01mnot\u001b[39;00m unexpected_names:\n\u001b[0;32m    531\u001b[0m     message \u001b[38;5;241m+\u001b[39m\u001b[38;5;241m=\u001b[39m (\n\u001b[0;32m    532\u001b[0m         \u001b[38;5;124m\"\u001b[39m\u001b[38;5;124mFeature names must be in the same order as they were in fit.\u001b[39m\u001b[38;5;130;01m\\n\u001b[39;00m\u001b[38;5;124m\"\u001b[39m\n\u001b[0;32m    533\u001b[0m     )\n\u001b[1;32m--> 535\u001b[0m \u001b[38;5;28;01mraise\u001b[39;00m \u001b[38;5;167;01mValueError\u001b[39;00m(message)\n",
      "\u001b[1;31mValueError\u001b[0m: The feature names should match those that were passed during fit.\nFeature names unseen at fit time:\n- x_future\nFeature names seen at fit time, yet now missing:\n- x\n"
     ]
    }
   ],
   "source": [
    "\n",
    "\n",
    "# Parse date column (if necessary)\n",
    "data['date'] = pd.to_datetime(data['date'])\n",
    "\n",
    "# Shift the target variables to predict future values of 'x' and 'y'\n",
    "data['x_future'] = data['x'].shift(-1)  # Shifting to create next time period target for x\n",
    "data['y_future'] = data['y'].shift(-1)  # Shifting to create next time period target for y\n",
    "\n",
    "# Drop the last row with NaN values due to shifting\n",
    "data = data.dropna()\n",
    "print(data)\n",
    "# OneHotEncode the current 'x' column (which contains strings)\n",
    "one_hot_encoder = OneHotEncoder(sparse_output=False, drop='first')  \n",
    "x_encoded = one_hot_encoder.fit_transform(data[['x']])\n",
    "\n",
    "# Combine the one-hot-encoded x with other features\n",
    "X = pd.concat([data[['date', 'y', 'z']], pd.DataFrame(x_encoded, index=data.index)], axis=1)\n",
    "# print(X)\n",
    "# Convert the date into numerical format for modeling (optional)\n",
    "X['date'] = X['date'].map(pd.Timestamp.toordinal)\n",
    "print('x')\n",
    "# Encode the target 'x_future' column\n",
    "x_future_encoded = one_hot_encoder.transform(data[['x_future']])\n",
    "print(x_future_encoded)\n",
    "# Prepare the final dataset\n",
    "y_x = pd.DataFrame(x_future_encoded, index=data.index)  # Target for x (encoded future values)\n",
    "y_y = data['y_future']                # Target for y (numerical future values)\n",
    "\n",
    "# Split into training and test sets (make sure both X and y_x have the same features and structure)\n",
    "X_train, X_test, y_x_train, y_x_test = train_test_split(X, y_x, test_size=0.2, random_state=42)\n",
    "_, _, y_y_train, y_y_test = train_test_split(X, y_y, test_size=0.2, random_state=42)\n",
    "\n",
    "# Initialize the models\n",
    "model_x = RandomForestRegressor(n_estimators=100, random_state=42)\n",
    "model_y = RandomForestRegressor(n_estimators=100, random_state=42)\n",
    "\n",
    "# Train the models\n",
    "model_x.fit(X_train, y_x_train)\n",
    "model_y.fit(X_train, y_y_train)\n",
    "\n",
    "# Predict\n",
    "y_x_pred = model_x.predict(X_test)\n",
    "y_y_pred = model_y.predict(X_test)\n",
    "\n",
    "# Evaluate the model for y (since x is one-hot-encoded and less interpretable)\n",
    "mae_x = mean_absolute_error(y_x_test, y_x_pred)\n",
    "mae_y = mean_absolute_error(y_y_test, y_y_pred)\n",
    "\n",
    "print(f'MAE for x: {mae_x}')\n",
    "print(f'MAE for y: {mae_y}')\n",
    "\n",
    "# Visualize the predictions vs actual values for y (since x is categorical)\n",
    "plt.figure(figsize=(10, 5))\n",
    "plt.plot(X_test['date'], y_y_test, label='Actual y')\n",
    "plt.plot(X_test['date'], y_y_pred, label='Predicted y')\n",
    "plt.legend()\n",
    "plt.show()\n"
   ]
  },
  {
   "cell_type": "code",
   "execution_count": null,
   "metadata": {},
   "outputs": [],
   "source": []
  },
  {
   "cell_type": "code",
   "execution_count": null,
   "metadata": {},
   "outputs": [],
   "source": []
  },
  {
   "cell_type": "code",
   "execution_count": null,
   "metadata": {},
   "outputs": [],
   "source": []
  }
 ],
 "metadata": {
  "kernelspec": {
   "display_name": "Python 3",
   "language": "python",
   "name": "python3"
  },
  "language_info": {
   "codemirror_mode": {
    "name": "ipython",
    "version": 3
   },
   "file_extension": ".py",
   "mimetype": "text/x-python",
   "name": "python",
   "nbconvert_exporter": "python",
   "pygments_lexer": "ipython3",
   "version": "3.11.4"
  }
 },
 "nbformat": 4,
 "nbformat_minor": 2
}
