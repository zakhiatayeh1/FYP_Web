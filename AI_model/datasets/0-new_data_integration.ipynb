{
 "cells": [
  {
   "cell_type": "code",
   "execution_count": 2,
   "metadata": {},
   "outputs": [
    {
     "name": "stdout",
     "output_type": "stream",
     "text": [
      "Collecting pymysql"
     ]
    },
    {
     "name": "stderr",
     "output_type": "stream",
     "text": [
      "\n",
      "[notice] A new release of pip is available: 23.1.2 -> 24.2\n",
      "[notice] To update, run: python.exe -m pip install --upgrade pip\n"
     ]
    },
    {
     "name": "stdout",
     "output_type": "stream",
     "text": [
      "\n",
      "  Downloading PyMySQL-1.1.1-py3-none-any.whl (44 kB)\n",
      "                                              0.0/45.0 kB ? eta -:--:--\n",
      "     -----------------                      20.5/45.0 kB 640.0 kB/s eta 0:00:01\n",
      "     -------------------------------------- 45.0/45.0 kB 560.2 kB/s eta 0:00:00\n",
      "Installing collected packages: pymysql\n",
      "Successfully installed pymysql-1.1.1\n"
     ]
    }
   ],
   "source": [
    "!pip install pymysql"
   ]
  },
  {
   "cell_type": "code",
   "execution_count": 5,
   "metadata": {},
   "outputs": [
    {
     "name": "stdout",
     "output_type": "stream",
     "text": [
      "  date_ordered      bike_type  quantity            bike_name\n",
      "0   2024-04-08      Road Bike         3       Roadmaster Pro\n",
      "1   2024-05-01    Hybrid Bike        10      Hybrid Explorer\n",
      "2   2024-05-02      Road Bike         1       Roadmaster Pro\n",
      "3   2024-05-02    Hybrid Bike         2      Hybrid Explorer\n",
      "4   2024-05-03      Road Bike        24       Roadmaster Pro\n",
      "5   2024-05-09      Road Bike         1       Roadmaster Pro\n",
      "6   2024-10-09    Hybrid Bike         1      Hybrid Explorer\n",
      "7   2024-10-09  Mountain Bike         1  Mountain Climber XT\n",
      "Dataset saved successfully!\n"
     ]
    },
    {
     "name": "stderr",
     "output_type": "stream",
     "text": [
      "C:\\Users\\souei\\AppData\\Local\\Temp\\ipykernel_20464\\491294852.py:33: UserWarning: pandas only supports SQLAlchemy connectable (engine/connection) or database string URI or sqlite3 DBAPI2 connection. Other DBAPI2 objects are not tested. Please consider using SQLAlchemy.\n",
      "  df = pd.read_sql(query, connection)\n"
     ]
    }
   ],
   "source": [
    "import pandas as pd\n",
    "import pymysql\n",
    "\n",
    "# Connect to the MySQL database\n",
    "connection = pymysql.connect(\n",
    "    host='localhost',\n",
    "    user='root',\n",
    "    password='password',\n",
    "    db='supply_chain'\n",
    ")\n",
    "\n",
    "# SQL query to fetch the dataset\n",
    "query = \"\"\"\n",
    "\n",
    "SELECT \n",
    "    co.date AS date_ordered,\n",
    "    bc.bike_type AS bike_type,\n",
    "    co.quantity,\n",
    "    m.name AS bike_name\n",
    "    \n",
    "FROM \n",
    "    customer_order co\n",
    "JOIN \n",
    "    Model m ON co.modelID = m.model_id\n",
    "JOIN \n",
    "    bike_type bc ON m.bike_type_id = bc.bike_type_id\n",
    "ORDER BY \n",
    "    co.date;\n",
    "\n",
    "\"\"\"\n",
    "\n",
    "# Load the query result into a Pandas DataFrame\n",
    "df = pd.read_sql(query, connection)\n",
    "\n",
    "# Close the database connection\n",
    "connection.close()\n",
    "\n",
    "# Display the DataFrame\n",
    "print(df)\n",
    "\n",
    "# Save the dataset as a CSV file\n",
    "# df.to_csv('supply_chain_dataset.csv', index=False)\n",
    "\n",
    "print(\"Dataset saved successfully!\")\n"
   ]
  },
  {
   "cell_type": "code",
   "execution_count": null,
   "metadata": {},
   "outputs": [],
   "source": [
    "# # ... existing code ...\n",
    "# import pandas as pd\n",
    "\n",
    "# # Load the existing CSV file\n",
    "# sales_df = pd.read_csv('sales_df.csv')\n",
    "\n",
    "# # Create a DataFrame from the new data\n",
    "# new_rows = pd.DataFrame(df)\n",
    "\n",
    "# # Append the new rows to the existing DataFrame\n",
    "# sales_df = pd.concat([sales_df, new_rows], ignore_index=True)\n",
    "\n",
    "# # Save the updated DataFrame back to the CSV file\n",
    "# sales_df.to_csv('sales_df.csv', index=False)\n"
   ]
  }
 ],
 "metadata": {
  "kernelspec": {
   "display_name": "Python 3",
   "language": "python",
   "name": "python3"
  },
  "language_info": {
   "codemirror_mode": {
    "name": "ipython",
    "version": 3
   },
   "file_extension": ".py",
   "mimetype": "text/x-python",
   "name": "python",
   "nbconvert_exporter": "python",
   "pygments_lexer": "ipython3",
   "version": "3.11.4"
  }
 },
 "nbformat": 4,
 "nbformat_minor": 2
}
