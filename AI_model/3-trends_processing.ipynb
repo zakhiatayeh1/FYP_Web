{
 "cells": [
  {
   "cell_type": "code",
   "execution_count": 5,
   "metadata": {},
   "outputs": [],
   "source": [
    "import pandas as pd\n"
   ]
  },
  {
   "cell_type": "code",
   "execution_count": 115,
   "metadata": {},
   "outputs": [],
   "source": [
    "bicycle_search = pd.read_csv('./datasets/Google_trends_data/Bicycle_search.csv')\n",
    "road_search = pd.read_csv('./datasets/Google_trends_data/Roadbicycle_search.csv')\n",
    "mountain_search = pd.read_csv('./datasets/Google_trends_data/Mountainbicycle_search.csv')\n",
    "BMX_search = pd.read_csv('./datasets/Google_trends_data/BMXbicycle_search.csv')\n",
    "hybrid_search = pd.read_csv('./datasets/Google_trends_data/Hybridbicycle_search.csv')\n",
    "\n",
    "sales_df = pd.read_csv('./datasets/sales_df.csv')\n"
   ]
  },
  {
   "cell_type": "code",
   "execution_count": 116,
   "metadata": {},
   "outputs": [
    {
     "name": "stdout",
     "output_type": "stream",
     "text": [
      "         Week  Bicycle\n",
      "0  10/20/2019       44\n",
      "1  10/27/2019       41\n",
      "2   11/3/2019       41\n",
      "3  11/10/2019       40\n",
      "4  11/17/2019       41\n",
      "         Week  Road Bicycle\n",
      "0  10/20/2019            44\n",
      "1  10/27/2019            36\n",
      "2   11/3/2019            44\n",
      "3  11/10/2019            40\n",
      "4  11/17/2019            39\n",
      "         Week  Mountain Bicycle\n",
      "0  10/20/2019                29\n",
      "1  10/27/2019                24\n",
      "2   11/3/2019                26\n",
      "3  11/10/2019                26\n",
      "4  11/17/2019                27\n",
      "         Week  BMX\n",
      "0  10/20/2019   28\n",
      "1  10/27/2019   26\n",
      "2   11/3/2019   28\n",
      "3  11/10/2019   25\n",
      "4  11/17/2019   27\n",
      "         Week  Hybrid bicycle\n",
      "0  10/20/2019              20\n",
      "1  10/27/2019              17\n",
      "2   11/3/2019              21\n",
      "3  11/10/2019              20\n",
      "4  11/17/2019              20\n",
      "           bike_name    bike_type date_ordered  quantity\n",
      "0  UrbanCommuter 500  Hybrid Bike   2022-05-14         1\n",
      "1  BMX Freestyle Pro          BMX   2024-03-06         2\n",
      "2     Roadmaster Pro    Road Bike   2021-01-03         3\n",
      "3    Hybrid Explorer  Hybrid Bike   2024-08-28         3\n",
      "4      AirMaster 300          BMX   2023-02-04         2\n"
     ]
    }
   ],
   "source": [
    "\n",
    "print(bicycle_search.head())\n",
    "print(road_search.head())\n",
    "print(mountain_search.head())\n",
    "print(BMX_search.head())\n",
    "print(hybrid_search.head())\n",
    "print(sales_df.head())"
   ]
  },
  {
   "cell_type": "code",
   "execution_count": 117,
   "metadata": {},
   "outputs": [
    {
     "name": "stdout",
     "output_type": "stream",
     "text": [
      "(262, 2)\n",
      "(262, 2)\n",
      "(262, 2)\n",
      "(262, 2)\n",
      "(262, 2)\n"
     ]
    }
   ],
   "source": [
    "print(bicycle_search.shape)\n",
    "print(road_search.shape)\n",
    "print(mountain_search.shape)\n",
    "print(BMX_search.shape)\n",
    "print(hybrid_search.shape)"
   ]
  },
  {
   "cell_type": "code",
   "execution_count": 118,
   "metadata": {},
   "outputs": [
    {
     "name": "stdout",
     "output_type": "stream",
     "text": [
      "Week    0\n",
      "BMX     0\n",
      "dtype: int64\n"
     ]
    }
   ],
   "source": [
    "# Check the number of null values in each column\n",
    "null_counts = BMX_search.isnull().sum()\n",
    "\n",
    "# Display the number of null values\n",
    "print(null_counts)\n"
   ]
  },
  {
   "cell_type": "code",
   "execution_count": 119,
   "metadata": {},
   "outputs": [],
   "source": [
    "bicycle_search.columns = ['date', 'search_value']\n",
    "road_search.columns = ['date', 'search_value']\n",
    "mountain_search.columns = ['date', 'search_value']\n",
    "BMX_search.columns = ['date', 'search_value']\n",
    "hybrid_search.columns = ['date', 'search_value']\n",
    "\n",
    "bicycle_search['date'] = pd.to_datetime(bicycle_search['date'])\n",
    "road_search['date'] = pd.to_datetime(road_search['date'])\n",
    "mountain_search['date'] = pd.to_datetime(mountain_search['date'])\n",
    "BMX_search['date'] = pd.to_datetime(BMX_search['date'])\n",
    "hybrid_search['date'] = pd.to_datetime(hybrid_search['date'])\n",
    "\n",
    "sales_df['date_ordered'] = pd.to_datetime(sales_df['date_ordered'])\n"
   ]
  },
  {
   "cell_type": "code",
   "execution_count": 120,
   "metadata": {},
   "outputs": [],
   "source": [
    "#add the 6 remaining days of the week in the dataframes\n",
    "def populate_df_week(df):\n",
    "    new_rows=[]\n",
    "    for index, row in bicycle_search.iterrows():\n",
    "        for i in range (0,7):\n",
    "            new_row = row.copy()\n",
    "            # print(type(row['date']))\n",
    "            # print(type(row['search_value']))\n",
    "            new_rows.append([row['date'] - pd.Timedelta(days=i), row['search_value'],])  \n",
    "    return pd.DataFrame(new_rows, columns=df.columns)"
   ]
  },
  {
   "cell_type": "code",
   "execution_count": 121,
   "metadata": {},
   "outputs": [],
   "source": [
    "\n",
    "bicycle_search = populate_df_week(bicycle_search)\n",
    "road_search = populate_df_week(road_search)\n",
    "mountain_search = populate_df_week(mountain_search)\n",
    "hybrid_search = populate_df_week(hybrid_search)\n",
    "BMX_search = populate_df_week(BMX_search)"
   ]
  },
  {
   "cell_type": "code",
   "execution_count": 122,
   "metadata": {},
   "outputs": [],
   "source": [
    "road_search.columns = ['date', 'bike_type_search_value']\n",
    "mountain_search.columns = ['date', 'bike_type_search_value']\n",
    "BMX_search.columns = ['date', 'bike_type_search_value']\n",
    "hybrid_search.columns = ['date', 'bike_type_search_value']"
   ]
  },
  {
   "cell_type": "code",
   "execution_count": 123,
   "metadata": {},
   "outputs": [
    {
     "name": "stdout",
     "output_type": "stream",
     "text": [
      "           bike_name      bike_type date_ordered  quantity       date  \\\n",
      "0  UrbanCommuter 500    Hybrid Bike   2022-05-14         1 2022-05-14   \n",
      "1      AirMaster 300            BMX   2022-05-14         1 2022-05-14   \n",
      "2  UrbanCommuter 500    Hybrid Bike   2022-05-14         2 2022-05-14   \n",
      "3     TrailBlazer XT  Mountain Bike   2022-05-14         3 2022-05-14   \n",
      "4  BMX Freestyle Pro            BMX   2022-05-14         3 2022-05-14   \n",
      "\n",
      "   search_value  \n",
      "0            61  \n",
      "1            61  \n",
      "2            61  \n",
      "3            61  \n",
      "4            61  \n"
     ]
    }
   ],
   "source": [
    "\n",
    "sales_df = sales_df.merge(bicycle_search[['date', 'search_value']], \n",
    "                           left_on='date_ordered', \n",
    "                           right_on='date', \n",
    "                           how='inner')\n",
    "\n",
    "# Display the updated sales_df\n",
    "print(sales_df.head())\n",
    "# ... existing code ..."
   ]
  },
  {
   "cell_type": "code",
   "execution_count": 126,
   "metadata": {},
   "outputs": [],
   "source": [
    "# ... existing code ...\n",
    "\n",
    "# Function to merge with the appropriate search dataframe based on bike_type\n",
    "def merge_with_bike_type(row):\n",
    "    if row['bike_type'] == 'Road Bike':\n",
    "        return road_search\n",
    "    elif row['bike_type'] == 'Mountain Bike':\n",
    "        return mountain_search\n",
    "    elif row['bike_type'] == 'BMX':\n",
    "        return BMX_search\n",
    "    elif row['bike_type'] == 'Hybrid Bike':\n",
    "        return hybrid_search\n",
    "    else:\n",
    "        return None  # or handle as needed"
   ]
  },
  {
   "cell_type": "code",
   "execution_count": 127,
   "metadata": {},
   "outputs": [
    {
     "name": "stdout",
     "output_type": "stream",
     "text": [
      "           bike_name    bike_type date_ordered  quantity     date_x  \\\n",
      "0  UrbanCommuter 500  Hybrid Bike   2022-05-14         1 2022-05-14   \n",
      "1  UrbanCommuter 500  Hybrid Bike   2022-05-14         1 2022-05-14   \n",
      "2  UrbanCommuter 500  Hybrid Bike   2022-05-14         1 2022-05-14   \n",
      "3  UrbanCommuter 500  Hybrid Bike   2022-05-14         1 2022-05-14   \n",
      "4  UrbanCommuter 500  Hybrid Bike   2022-05-14         1 2022-05-14   \n",
      "\n",
      "   search_value     date_y  bike_type_search_value  \n",
      "0            61 2022-05-14                      61  \n",
      "1            61 2022-05-14                      61  \n",
      "2            61 2022-05-14                      64  \n",
      "3            61 2022-05-14                      64  \n",
      "4            61 2022-05-14                      64  \n"
     ]
    }
   ],
   "source": [
    "# Create a new DataFrame to hold the merged results\n",
    "merged_results = []\n",
    "\n",
    "# Iterate through each row in sales_df\n",
    "for index, row in sales_df.iterrows():\n",
    "    search_df = merge_with_bike_type(row)\n",
    "    # Convert the row to a DataFrame for merging\n",
    "    row_df = pd.DataFrame([row])  # Convert Series to DataFrame\n",
    "    # Merge with the appropriate search dataframe\n",
    "    merged_row = row_df.merge(search_df[['date', 'bike_type_search_value']], \n",
    "                                left_on='date_ordered', \n",
    "                                right_on='date', \n",
    "                                how='inner')\n",
    "    merged_results.append(merged_row)\n",
    "\n",
    "    \n",
    "# Convert the list of merged results back to a DataFrame\n",
    "merged_sales_df = pd.concat(merged_results, ignore_index=True)\n",
    "\n",
    "# Display the updated merged_sales_df\n",
    "print(merged_sales_df.head())\n"
   ]
  },
  {
   "cell_type": "code",
   "execution_count": 137,
   "metadata": {},
   "outputs": [
    {
     "name": "stdout",
     "output_type": "stream",
     "text": [
      "(140000, 7)\n",
      "0\n",
      "The columns 'search_value' and 'bike_type_search_value' are different 52905 times.\n"
     ]
    }
   ],
   "source": [
    "# Sanity check\n",
    "print(merged_sales_df.shape)\n",
    "\n",
    "difference_count2 = (merged_sales_df['date_x'] != merged_sales_df['date_y'] != merged_sales_df['date_ordered']).sum()\n",
    "print(difference_count2)\n",
    "\n",
    "\n",
    "difference_count = (merged_sales_df['search_value'] != merged_sales_df['bike_type_search_value']).sum()\n",
    "print(f\"The columns 'search_value' and 'bike_type_search_value' are different {difference_count} times.\")"
   ]
  },
  {
   "cell_type": "code",
   "execution_count": 138,
   "metadata": {},
   "outputs": [
    {
     "name": "stdout",
     "output_type": "stream",
     "text": [
      "           bike_name    bike_type date_ordered  quantity  search_value  \\\n",
      "0  UrbanCommuter 500  Hybrid Bike   2022-05-14         1            61   \n",
      "1  UrbanCommuter 500  Hybrid Bike   2022-05-14         1            61   \n",
      "2  UrbanCommuter 500  Hybrid Bike   2022-05-14         1            61   \n",
      "3  UrbanCommuter 500  Hybrid Bike   2022-05-14         1            61   \n",
      "4  UrbanCommuter 500  Hybrid Bike   2022-05-14         1            61   \n",
      "\n",
      "   bike_type_search_value  \n",
      "0                      61  \n",
      "1                      61  \n",
      "2                      64  \n",
      "3                      64  \n",
      "4                      64  \n"
     ]
    }
   ],
   "source": [
    "merged_sales_df = merged_sales_df.drop(columns=['date_x'])\n",
    "merged_sales_df = merged_sales_df.drop(columns=['date_y'])"
   ]
  },
  {
   "cell_type": "code",
   "execution_count": 139,
   "metadata": {},
   "outputs": [
    {
     "name": "stdout",
     "output_type": "stream",
     "text": [
      "           bike_name    bike_type date_ordered  quantity  search_value  \\\n",
      "0  UrbanCommuter 500  Hybrid Bike   2022-05-14         1            61   \n",
      "1  UrbanCommuter 500  Hybrid Bike   2022-05-14         1            61   \n",
      "2  UrbanCommuter 500  Hybrid Bike   2022-05-14         1            61   \n",
      "3  UrbanCommuter 500  Hybrid Bike   2022-05-14         1            61   \n",
      "4  UrbanCommuter 500  Hybrid Bike   2022-05-14         1            61   \n",
      "\n",
      "   bike_type_search_value  \n",
      "0                      61  \n",
      "1                      61  \n",
      "2                      64  \n",
      "3                      64  \n",
      "4                      64  \n"
     ]
    }
   ],
   "source": [
    "print(merged_sales_df.head())\n"
   ]
  },
  {
   "cell_type": "code",
   "execution_count": 140,
   "metadata": {},
   "outputs": [],
   "source": [
    "merged_sales_df.to_csv('./datasets/sales_and_trends_df.csv', index=False)"
   ]
  }
 ],
 "metadata": {
  "kernelspec": {
   "display_name": "Python 3",
   "language": "python",
   "name": "python3"
  },
  "language_info": {
   "codemirror_mode": {
    "name": "ipython",
    "version": 3
   },
   "file_extension": ".py",
   "mimetype": "text/x-python",
   "name": "python",
   "nbconvert_exporter": "python",
   "pygments_lexer": "ipython3",
   "version": "3.11.4"
  }
 },
 "nbformat": 4,
 "nbformat_minor": 2
}
